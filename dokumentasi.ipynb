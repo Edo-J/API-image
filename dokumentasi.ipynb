{
  "nbformat": 4,
  "nbformat_minor": 0,
  "metadata": {
    "colab": {
      "name": "dokumentasi.ipynb",
      "provenance": [],
      "collapsed_sections": []
    },
    "kernelspec": {
      "name": "python3",
      "display_name": "Python 3"
    }
  },
  "cells": [
    {
      "cell_type": "markdown",
      "metadata": {
        "id": "pJ_tfxcJGF3h",
        "colab_type": "text"
      },
      "source": [
        "# ANDROID\n",
        "## “REST API & RETROFIT”\n",
        "\n",
        "\n",
        "REST API\n",
        "1.\tUJI COBA POST\n",
        "\n",
        "![alt text](https://i.ibb.co/qnRTMHj/1.png) \n",
        "![alt text](https://i.ibb.co/hKP1SX6/2.png) \n",
        "\n",
        "2.\tUJI COBA GET\n",
        "\n",
        "![alt text](https://i.ibb.co/cLx7SRr/3.png) \n",
        "![alt text](https://i.ibb.co/z20MsHH/4.png) \n",
        "\n",
        "3.\tUJI COBA PUT\n",
        "\n",
        "![alt text](https://i.ibb.co/wg6k5hd/5.png) \n",
        "![alt text](https://i.ibb.co/WpB2z08/6.png) \n",
        "\n",
        "4.\tUJI COBA DELETE\n",
        "\n",
        "![alt text](https://i.ibb.co/n8YxQ0n/7.png) \n",
        "![alt text](https://i.ibb.co/WHKy5cM/8.png) \n",
        "\n",
        "\n",
        "---\n",
        "\n",
        "\n",
        " \n"
      ]
    }
  ]
}