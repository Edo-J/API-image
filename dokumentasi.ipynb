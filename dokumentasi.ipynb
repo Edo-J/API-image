{
  "nbformat": 4,
  "nbformat_minor": 0,
  "metadata": {
    "colab": {
      "name": "dokumentasi.ipynb",
      "provenance": [],
      "collapsed_sections": []
    },
    "kernelspec": {
      "name": "python3",
      "display_name": "Python 3"
    }
  },
  "cells": [
    {
      "cell_type": "markdown",
      "metadata": {
        "id": "pJ_tfxcJGF3h",
        "colab_type": "text"
      },
      "source": [
        "# ANDROID\n",
        "## “REST API & RETROFIT”\n",
        "\n",
        "\n",
        "\n",
        "REST API\n",
        "1.\tUJI COBA POST\n",
        "\n",
        "<center><a href=\"https://imgbb.com/\"><img src=\"https://i.ibb.co/qnRTMHj/1.png\" alt=\"1\" border=\"0\"></a></center>\n",
        "\n",
        "\n",
        " <center><a href=\"https://imgbb.com/\"><img src=\"https://i.ibb.co/hKP1SX6/2.png\" alt=\"2\" border=\"0\"></a></center>\n",
        " \n",
        "\n",
        "2.\tUJI COBA GET\n",
        "\n",
        "<center><a href=\"https://imgbb.com/\"><img src=\"https://i.ibb.co/cLx7SRr/3.png\" alt=\"3\" border=\"0\"></a></center>\n",
        "\n",
        "\n",
        "<center><a href=\"https://imgbb.com/\"><img src=\"https://i.ibb.co/z20MsHH/4.png\" alt=\"4\" border=\"0\"></a></center>\n",
        " \n",
        "\n",
        "\n",
        "3.\tUJI COBA PUT\n",
        "\n",
        "<center><a href=\"https://imgbb.com/\"><img src=\"https://i.ibb.co/wg6k5hd/5.png\" alt=\"5\" border=\"0\"></a></center>\n",
        "\n",
        "\n",
        "\n",
        "<center><a href=\"https://imgbb.com/\"><img src=\"https://i.ibb.co/WpB2z08/6.png\" alt=\"6\" border=\"0\"></a></center>\n",
        " \n",
        " \n",
        "4.\tUJI COBA DELETE\n",
        "\n",
        "<center><a href=\"https://imgbb.com/\"><img src=\"https://i.ibb.co/n8YxQ0n/7.png\" alt=\"7\" border=\"0\"></a></center>\n",
        "\n",
        "\n",
        "<center><a href=\"https://imgbb.com/\"><img src=\"https://i.ibb.co/WHKy5cM/8.png\" alt=\"8\" border=\"0\"></a><center>\n",
        "\n",
        "---\n",
        "\n",
        "\n",
        " \n"
      ]
    }
  ]
}